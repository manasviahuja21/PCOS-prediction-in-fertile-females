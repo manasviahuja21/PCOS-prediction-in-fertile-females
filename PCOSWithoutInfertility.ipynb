{
 "cells": [
  {
   "cell_type": "markdown",
   "id": "0a515b20-6821-4f8e-b03b-a824b1eda88d",
   "metadata": {},
   "source": [
    "**PREDICTING PCOS IN CASES WITHOUT INFERTILITY**"
   ]
  },
  {
   "cell_type": "markdown",
   "id": "c7ed4365-f7d6-41eb-b553-e138eb21c286",
   "metadata": {},
   "source": [
    "**USING LOGISTIC REGRESSION**"
   ]
  },
  {
   "cell_type": "code",
   "execution_count": 1,
   "id": "ff277ec4-b628-46f5-8c2f-5f6b0375a75f",
   "metadata": {},
   "outputs": [
    {
     "name": "stdout",
     "output_type": "stream",
     "text": [
      "<class 'pandas.core.frame.DataFrame'>\n",
      "RangeIndex: 541 entries, 0 to 540\n",
      "Data columns (total 43 columns):\n",
      " #   Column                  Non-Null Count  Dtype  \n",
      "---  ------                  --------------  -----  \n",
      " 0   Patient File No.        541 non-null    int64  \n",
      " 1   PCOS                    541 non-null    int64  \n",
      " 2    Age (yrs)              541 non-null    int64  \n",
      " 3   Weight (Kg)             541 non-null    float64\n",
      " 4   Height(Cm)              541 non-null    float64\n",
      " 5   Blood Group             541 non-null    int64  \n",
      " 6   Pulse rate(bpm)         541 non-null    int64  \n",
      " 7   RR (breaths/min)        541 non-null    int64  \n",
      " 8   Hb(g/dl)                541 non-null    float64\n",
      " 9   Cycle(R/I)              541 non-null    int64  \n",
      " 10  Cycle length(days)      541 non-null    int64  \n",
      " 11  Marraige Status (Yrs)   540 non-null    float64\n",
      " 12  Pregnant(Y/N)           541 non-null    int64  \n",
      " 13  No. of aborptions       541 non-null    int64  \n",
      " 14    I   beta-HCG(mIU/mL)  541 non-null    float64\n",
      " 15  II    beta-HCG(mIU/mL)  541 non-null    object \n",
      " 16  FSH(mIU/mL)             541 non-null    float64\n",
      " 17  LH(mIU/mL)              541 non-null    float64\n",
      " 18  FSH/LH                  9 non-null      float64\n",
      " 19  Hip(inch)               541 non-null    int64  \n",
      " 20  Waist(inch)             541 non-null    int64  \n",
      " 21  Waist:Hip Ratio         9 non-null      float64\n",
      " 22  TSH (mIU/L)             541 non-null    float64\n",
      " 23  AMH(ng/mL)              541 non-null    object \n",
      " 24  PRL(ng/mL)              541 non-null    float64\n",
      " 25  Vit D3 (ng/mL)          541 non-null    float64\n",
      " 26  PRG(ng/mL)              541 non-null    float64\n",
      " 27  RBS(mg/dl)              541 non-null    float64\n",
      " 28  Weight gain(Y/N)        541 non-null    int64  \n",
      " 29  hair growth(Y/N)        541 non-null    int64  \n",
      " 30  Skin darkening (Y/N)    541 non-null    int64  \n",
      " 31  Hair loss(Y/N)          541 non-null    int64  \n",
      " 32  Pimples(Y/N)            541 non-null    int64  \n",
      " 33  Fast food (Y/N)         540 non-null    float64\n",
      " 34  Reg.Exercise(Y/N)       541 non-null    int64  \n",
      " 35  BP _Systolic (mmHg)     541 non-null    int64  \n",
      " 36  BP _Diastolic (mmHg)    541 non-null    int64  \n",
      " 37  Follicle No. (L)        541 non-null    int64  \n",
      " 38  Follicle No. (R)        541 non-null    int64  \n",
      " 39  Avg. F size (L) (mm)    541 non-null    float64\n",
      " 40  Avg. F size (R) (mm)    541 non-null    float64\n",
      " 41  Endometrium (mm)        541 non-null    float64\n",
      " 42  Unnamed: 42             2 non-null      object \n",
      "dtypes: float64(18), int64(22), object(3)\n",
      "memory usage: 181.9+ KB\n",
      "None\n",
      "   Patient File No.  PCOS   Age (yrs)  Weight (Kg)  Height(Cm)   Blood Group  \\\n",
      "0                 1     0          28         44.6        152.0           15   \n",
      "1                 2     0          36         65.0        161.5           15   \n",
      "2                 3     1          33         68.8        165.0           11   \n",
      "3                 4     0          37         65.0        148.0           13   \n",
      "4                 5     0          25         52.0        161.0           11   \n",
      "\n",
      "   Pulse rate(bpm)   RR (breaths/min)  Hb(g/dl)  Cycle(R/I)  ...  \\\n",
      "0                78                22     10.48           2  ...   \n",
      "1                74                20     11.70           2  ...   \n",
      "2                72                18     11.80           2  ...   \n",
      "3                72                20     12.00           2  ...   \n",
      "4                72                18     10.00           2  ...   \n",
      "\n",
      "   Fast food (Y/N)  Reg.Exercise(Y/N)  BP _Systolic (mmHg)  \\\n",
      "0              1.0                  0                  110   \n",
      "1              0.0                  0                  120   \n",
      "2              1.0                  0                  120   \n",
      "3              0.0                  0                  120   \n",
      "4              0.0                  0                  120   \n",
      "\n",
      "   BP _Diastolic (mmHg)  Follicle No. (L) Follicle No. (R)  \\\n",
      "0                    80                 3                3   \n",
      "1                    70                 3                5   \n",
      "2                    80                13               15   \n",
      "3                    70                 2                2   \n",
      "4                    80                 3                4   \n",
      "\n",
      "   Avg. F size (L) (mm)  Avg. F size (R) (mm)  Endometrium (mm)  Unnamed: 42  \n",
      "0                  18.0                  18.0               8.5          NaN  \n",
      "1                  15.0                  14.0               3.7          NaN  \n",
      "2                  18.0                  20.0              10.0          NaN  \n",
      "3                  15.0                  14.0               7.5          NaN  \n",
      "4                  16.0                  14.0               7.0          NaN  \n",
      "\n",
      "[5 rows x 43 columns]\n",
      "Accuracy: 0.8773006134969326\n",
      "Classification Report:\n",
      "               precision    recall  f1-score   support\n",
      "\n",
      "           0       0.88      0.95      0.91       110\n",
      "           1       0.87      0.74      0.80        53\n",
      "\n",
      "    accuracy                           0.88       163\n",
      "   macro avg       0.87      0.84      0.85       163\n",
      "weighted avg       0.88      0.88      0.87       163\n",
      "\n"
     ]
    }
   ],
   "source": [
    "import pandas as pd\n",
    "from sklearn.model_selection import train_test_split\n",
    "from sklearn.preprocessing import StandardScaler\n",
    "from sklearn.preprocessing import LabelEncoder\n",
    "from sklearn.linear_model import LogisticRegression\n",
    "from sklearn.metrics import accuracy_score, classification_report\n",
    "from sklearn.impute import SimpleImputer\n",
    "\n",
    "# Load the dataset\n",
    "  # Update this path to the location of your file\n",
    "\n",
    "file_path = r\"C:\\Users\\manas\\CODE\\Python\\Datasets\\pcos\\PCOS_data_without_infertility.xlsx\"\n",
    "data = pd.read_excel(file_path)\n",
    "\n",
    "# Display basic information about the dataset\n",
    "print(data.info())\n",
    "print(data.head())\n",
    "\n",
    "# Drop columns that are not needed for the analysis\n",
    "data = data.drop(columns=['Patient File No.'],axis=1)\n",
    "\n",
    "# Identify categorical columns\n",
    "categorical_columns = data.select_dtypes(include=['object']).columns\n",
    "\n",
    "# Encode categorical features\n",
    "label_encoders = {}\n",
    "for column in categorical_columns:\n",
    "    le = LabelEncoder()\n",
    "    data[column] = le.fit_transform(data[column].astype(str))  # Convert all to string for encoding\n",
    "    label_encoders[column] = le\n",
    "\n",
    "# Define features and target\n",
    "X = data.drop('PCOS', axis=1)\n",
    "y = data['PCOS']\n",
    "\n",
    "# Handle missing values using imputation\n",
    "imputer = SimpleImputer(strategy='mean') \n",
    "X = imputer.fit_transform(X)\n",
    "\n",
    "# Split data into training and testing sets\n",
    "X_train, X_test, y_train, y_test = train_test_split(X, y, test_size=0.3, random_state=42)\n",
    "\n",
    "# Standardize features\n",
    "scaler = StandardScaler()\n",
    "X_train = scaler.fit_transform(X_train)\n",
    "X_test = scaler.transform(X_test)\n",
    "\n",
    "# Train the logistic regression model\n",
    "model = LogisticRegression(max_iter=1000)\n",
    "model.fit(X_train, y_train)\n",
    "\n",
    "# Predict on the test set\n",
    "y_pred = model.predict(X_test)\n",
    "\n",
    "# Evaluate the model\n",
    "accuracy = accuracy_score(y_test, y_pred)\n",
    "report = classification_report(y_test, y_pred)\n",
    "\n",
    "print(\"Accuracy:\", accuracy)\n",
    "print(\"Classification Report:\\n\", report)\n"
   ]
  },
  {
   "cell_type": "markdown",
   "id": "327276c4-b611-4939-90d7-f868575bb056",
   "metadata": {},
   "source": [
    "**USING SVM**"
   ]
  },
  {
   "cell_type": "code",
   "execution_count": 3,
   "id": "43f78d8f-7aba-4ad7-a558-687e24728c35",
   "metadata": {},
   "outputs": [
    {
     "name": "stdout",
     "output_type": "stream",
     "text": [
      "Accuracy: 0.8711656441717791\n",
      "Classification Report:\n",
      "               precision    recall  f1-score   support\n",
      "\n",
      "           0       0.87      0.95      0.91       110\n",
      "           1       0.86      0.72      0.78        53\n",
      "\n",
      "    accuracy                           0.87       163\n",
      "   macro avg       0.87      0.83      0.85       163\n",
      "weighted avg       0.87      0.87      0.87       163\n",
      "\n"
     ]
    }
   ],
   "source": [
    "from sklearn.svm import SVC\n",
    "\n",
    "# Initialize and train the model\n",
    "model = SVC(kernel='linear', random_state=42)\n",
    "model.fit(X_train, y_train)\n",
    "\n",
    "# Predict and evaluate\n",
    "y_pred = model.predict(X_test)\n",
    "accuracy = accuracy_score(y_test, y_pred)\n",
    "report = classification_report(y_test, y_pred)\n",
    "\n",
    "print(\"Accuracy:\", accuracy)\n",
    "print(\"Classification Report:\\n\", report)\n"
   ]
  },
  {
   "cell_type": "markdown",
   "id": "7e896918-7c6c-4e85-9820-79dc382f3c29",
   "metadata": {},
   "source": [
    "**USING RANDOM FOREST**"
   ]
  },
  {
   "cell_type": "code",
   "execution_count": 5,
   "id": "786b630e-ded1-4f41-9ec5-e69a0031d7fe",
   "metadata": {},
   "outputs": [
    {
     "name": "stdout",
     "output_type": "stream",
     "text": [
      "Accuracy: 0.901840490797546\n",
      "Classification Report:\n",
      "               precision    recall  f1-score   support\n",
      "\n",
      "           0       0.91      0.95      0.93       110\n",
      "           1       0.89      0.79      0.84        53\n",
      "\n",
      "    accuracy                           0.90       163\n",
      "   macro avg       0.90      0.87      0.88       163\n",
      "weighted avg       0.90      0.90      0.90       163\n",
      "\n"
     ]
    }
   ],
   "source": [
    "from sklearn.ensemble import RandomForestClassifier\n",
    "\n",
    "# Initialize and train the model\n",
    "model = RandomForestClassifier(n_estimators=100, random_state=42)\n",
    "model.fit(X_train, y_train)\n",
    "\n",
    "# Predict and evaluate\n",
    "y_pred = model.predict(X_test)\n",
    "accuracy = accuracy_score(y_test, y_pred)\n",
    "report = classification_report(y_test, y_pred)\n",
    "\n",
    "print(\"Accuracy:\", accuracy)\n",
    "print(\"Classification Report:\\n\", report)\n"
   ]
  },
  {
   "cell_type": "code",
   "execution_count": 6,
   "id": "afb0b074-5171-47c9-b7da-3e394784ff1b",
   "metadata": {},
   "outputs": [],
   "source": [
    "import matplotlib.pyplot as plt"
   ]
  },
  {
   "cell_type": "code",
   "execution_count": 9,
   "id": "34bf4aab-1f8d-4f36-84fd-600b03c4af93",
   "metadata": {},
   "outputs": [
    {
     "data": {
      "text/plain": [
       "364"
      ]
     },
     "execution_count": 9,
     "metadata": {},
     "output_type": "execute_result"
    }
   ],
   "source": [
    "yes=0\n",
    "no=0\n",
    "for item in y:\n",
    "    if item==0:\n",
    "        yes=yes+1\n",
    "    else:\n",
    "        no=no+1\n",
    "yes\n"
   ]
  },
  {
   "cell_type": "code",
   "execution_count": 11,
   "id": "0b9f36dd-2285-4b66-98f6-00c1470d7c6d",
   "metadata": {},
   "outputs": [
    {
     "data": {
      "image/png": "[encoded data removed]",
      "text/plain": [
       "<Figure size 640x480 with 1 Axes>"
      ]
     },
     "metadata": {},
     "output_type": "display_data"
    }
   ],
   "source": [
    "data=[yes,no]\n",
    "labels=['Affected with PCOS','Not affected']\n",
    "explo=[0,0.09]\n",
    "plt.pie(data,labels=labels,autopct='%1.1f%%',colors=['green', 'red'],explode=explo)\n",
    "plt.title('PCOS IN FERTILE FEMALES')\n",
    "plt.show()"
   ]
  },
  {
   "cell_type": "code",
   "execution_count": 12,
   "id": "6f89cd2c-cbc3-41bf-85e0-0754c4054000",
   "metadata": {},
   "outputs": [
    {
     "name": "stdout",
     "output_type": "stream",
     "text": [
      "<class 'pandas.core.indexes.base.Index'>\n"
     ]
    }
   ],
   "source": [
    "print(type(categorical_columns))"
   ]
  },
  {
   "cell_type": "code",
   "execution_count": 17,
   "id": "d881a208-7925-4c4f-b206-16c4defeb3c1",
   "metadata": {},
   "outputs": [
    {
     "name": "stdout",
     "output_type": "stream",
     "text": [
      "label_encoders=  {'II    beta-HCG(mIU/mL)': LabelEncoder(), 'AMH(ng/mL)': LabelEncoder(), 'Unnamed: 42': LabelEncoder()}\n"
     ]
    }
   ],
   "source": [
    "print(\"label_encoders= \",label_encoders)"
   ]
  },
  {
   "cell_type": "code",
   "execution_count": null,
   "id": "023e284a-7efb-42c7-ab67-90aa134666a1",
   "metadata": {},
   "outputs": [],
   "source": []
  },
  {
   "cell_type": "code",
   "execution_count": 26,
   "id": "f708cf06-f389-42a4-a2a6-e7f1e942183c",
   "metadata": {},
   "outputs": [
    {
     "data": {
      "image/png": "[encoded data removed]",
      "text/plain": [
       "<Figure size 640x480 with 1 Axes>"
      ]
     },
     "metadata": {},
     "output_type": "display_data"
    }
   ],
   "source": [
    "import matplotlib.pyplot as plt\n",
    "\n",
    "# Model names\n",
    "models = ['Logistic Regression','SVM','RandomForest']\n",
    "\n",
    "# Corresponding accuracy scores\n",
    "accuracy_scores = [87.11,87.33,90.11]\n",
    "\n",
    "# Create the bar chart\n",
    "\n",
    "bars = plt.bar(models, accuracy_scores, color='crimson')\n",
    "\n",
    "# Add accuracy score labels on top of the bars\n",
    "for bar in bars:\n",
    "    yval = bar.get_height()\n",
    "    plt.text(bar.get_x() + bar.get_width()/2.0, yval, f'{int(yval)}', ha='center', va='bottom', fontsize=12)\n",
    "\n",
    "# Set labels and title\n",
    "plt.xlabel('Models', fontsize=14)\n",
    "plt.ylabel('Accuracy Score', fontsize=14)\n",
    "plt.title('Model Accuracy Comparison', fontsize=16)\n",
    "plt.ylim(0, 110)  # Set y-axis limit\n",
    "\n",
    "# Display the plot\n",
    "plt.show()\n"
   ]
  },
  {
   "cell_type": "code",
   "execution_count": null,
   "id": "b277b4b9-ad7a-435a-bd9d-d54a1b9da86a",
   "metadata": {},
   "outputs": [],
   "source": []
  }
 ],
 "metadata": {
  "kernelspec": {
   "display_name": "Python 3 (ipykernel)",
   "language": "python",
   "name": "python3"
  },
  "language_info": {
   "codemirror_mode": {
    "name": "ipython",
    "version": 3
   },
   "file_extension": ".py",
   "mimetype": "text/x-python",
   "name": "python",
   "nbconvert_exporter": "python",
   "pygments_lexer": "ipython3",
   "version": "3.12.4"
  }
 },
 "nbformat": 4,
 "nbformat_minor": 5
}
